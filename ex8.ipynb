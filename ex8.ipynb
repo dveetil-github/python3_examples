{
  "nbformat": 4,
  "nbformat_minor": 0,
  "metadata": {
    "colab": {
      "name": "ex8.ipynb",
      "provenance": [],
      "authorship_tag": "ABX9TyP0nXspeNRWu0NFcgU/AwyY",
      "include_colab_link": true
    },
    "kernelspec": {
      "name": "python3",
      "display_name": "Python 3"
    }
  },
  "cells": [
    {
      "cell_type": "markdown",
      "metadata": {
        "id": "view-in-github",
        "colab_type": "text"
      },
      "source": [
        "<a href=\"https://colab.research.google.com/github/dveetil-github/python3_examples/blob/main/ex8.ipynb\" target=\"_parent\"><img src=\"https://colab.research.google.com/assets/colab-badge.svg\" alt=\"Open In Colab\"/></a>"
      ]
    },
    {
      "cell_type": "code",
      "metadata": {
        "colab": {
          "base_uri": "https://localhost:8080/"
        },
        "id": "Xcv0NcBRzmRc",
        "outputId": "8ea774ab-82ae-42e1-e6d2-84e2365fa560"
      },
      "source": [
        "formatter = \"{} {} {} {}\"\r\n",
        "\r\n",
        "print(formatter.format(\"hi\",\"hello\",\"me\",\"go\"))"
      ],
      "execution_count": 2,
      "outputs": [
        {
          "output_type": "stream",
          "text": [
            "hi hello me go\n"
          ],
          "name": "stdout"
        }
      ]
    }
  ]
}